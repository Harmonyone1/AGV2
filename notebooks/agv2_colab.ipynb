{
 "cells": [
  {
   "cell_type": "markdown",
   "metadata": {},
   "source": [
    "# AGV2 Colab Pipeline\n",
    "Use this notebook to run encoder + PPO training on Colab. Upload your `.env` and parquet files.\n"
   ]
  },
  {
   "cell_type": "code",
   "execution_count": null,
   "metadata": {},
   "outputs": [],
   "source": [
    "#@title 1. Environment setup (Colab-safe pins)\n",
    "\n",
    "!pip install --quiet --index-url https://download.pytorch.org/whl/cpu torch==2.8.0 torchvision==0.23.0 torchaudio==2.8.0\n",
    "\n",
    "!pip install --quiet stable-baselines3==2.4.0 gymnasium==0.29.1\n",
    "\n",
    "!pip install --quiet polars==1.15.0 numpy==2.1.1 python-dotenv==1.0.0 PyYAML==6.0.2 pandas==2.2.2 requests==2.32.4 joblib==1.4.2 PyJWT==2.8.0\n",
    "\n",
    "!pip install --quiet tradelocker==0.56.2 --no-deps  # package pins requests==2.32.2, but we keep Colab's 2.32.4\n"
   ]
  },
  {
   "cell_type": "code",
   "execution_count": null,
   "metadata": {},
   "outputs": [],
   "source": [
    "#@title 2. Clone repo & upload secrets\n",
    "\n",
    "import os, shutil\n",
    "\n",
    "if os.path.exists('AGV2'):\n",
    "    shutil.rmtree('AGV2')\n",
    "\n",
    "!git clone https://github.com/Harmonyone1/AGV2.git\n",
    "\n",
    "%cd AGV2\n",
    "\n",
    "from google.colab import files\n",
    "\n",
    "print('Upload .env and parquet files now...')\n",
    "\n",
    "uploaded = files.upload()\n",
    "\n",
    "uploaded.keys()\n"
   ]
  },
  {
   "cell_type": "code",
   "execution_count": null,
   "metadata": {},
   "outputs": [],
   "source": [
    "\n",
    "#@title 3. Train Stage-1 encoder\n",
    "\n",
    "import os, subprocess, torch, sys\n",
    "\n",
    "REPO_ROOT = '/content/AGV2'\n",
    "SRC_ROOT = f\"{REPO_ROOT}/src\"\n",
    "UPLOAD_PATH = f\"{REPO_ROOT}/encoder_windows_eth.parquet\"\n",
    "DATA_PATH = UPLOAD_PATH if os.path.exists(UPLOAD_PATH) else f\"{REPO_ROOT}/data/features/encoder_windows_eth.parquet\"\n",
    "if not os.path.exists(DATA_PATH):\n",
    "    raise FileNotFoundError('Upload encoder_windows_eth.parquet via cell 2 or update DATA_PATH.')\n",
    "\n",
    "ENV_PATH = f\"{REPO_ROOT}/.env\"\n",
    "CONFIG_PATH = f\"{REPO_ROOT}/config/encoder.yaml\"\n",
    "\n",
    "%cd /content/AGV2\n",
    "\n",
    "env = os.environ.copy()\n",
    "existing_path = env.get('PYTHONPATH', '')\n",
    "paths = [SRC_ROOT, REPO_ROOT]\n",
    "if existing_path:\n",
    "    paths.append(existing_path)\n",
    "env['PYTHONPATH'] = ':'.join(paths)\n",
    "\n",
    "train_cmd = [sys.executable,'scripts/train_encoder.py','--data',DATA_PATH,'--config',CONFIG_PATH,'--env',ENV_PATH,'--device','cuda' if torch.cuda.is_available() else 'cpu','--seed','0']\n",
    "print('Running:', ' '.join(train_cmd))\n",
    "result = subprocess.run(train_cmd, capture_output=True, text=True, cwd=REPO_ROOT, env=env)\n",
    "print(result.stdout)\n",
    "print(result.stderr)\n",
    "result.check_returncode()\n"
   ]
  },
  {
   "cell_type": "code",
   "execution_count": null,
   "metadata": {},
   "outputs": [],
   "source": [
    "#@title 4. Generate embeddings, train PPO, backtest\n",
    "import subprocess, torch\n",
    "EMBED_INPUT = DATA_PATH\n",
    "EMBED_OUTPUT = '/content/AGV2/data/features/encoder_windows_eth_emb.parquet'\n",
    "CHECKPOINT = 'models/encoders/encoder_best.pt'\n",
    "DEVICE = 'cuda' if torch.cuda.is_available() else 'cpu'\n",
    "subprocess.run(['python','scripts/embed_windows.py','--input',EMBED_INPUT,'--checkpoint',CHECKPOINT,'--output',EMBED_OUTPUT,'--batch-size','256','--device',DEVICE], check=True)\n",
    "subprocess.run(['python','scripts/train_policy.py','--config','config/rl_policy.yaml','--data',EMBED_OUTPUT,'--timesteps','200000'], check=True)\n",
    "subprocess.run(['python','scripts/backtest_policy.py','--config','config/backtest.yaml','--model','models/policies/ppo_trading_env.zip','--episodes','20'], check=True)"
   ]
  }
 ],
 "metadata": {
  "kernelspec": {
   "display_name": "Python 3",
   "language": "python",
   "name": "python3"
  },
  "language_info": {
   "name": "python",
   "version": "3.x"
  }
 },
 "nbformat": 4,
 "nbformat_minor": 5
}