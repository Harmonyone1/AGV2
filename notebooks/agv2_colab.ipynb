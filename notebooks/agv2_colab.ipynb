﻿{
    "cells":  [
                  {
                      "cell_type":  "markdown",
                      "metadata":  {

                                   },
                      "source":  [
                                     "# AGV2 Colab Pipeline\n",
                                     "Use this notebook to run encoder + PPO training on Colab. Upload your `.env` and parquet files.\n"
                                 ]
                  },
                  {
                      "cell_type":  "code",
                      "execution_count":  null,
                      "metadata":  {

                                   },
                      "outputs":  [

                                  ],
                      "source":  [
                                     "#@title 1. Environment setup (Colab-safe pins)\n",
                                     "\n",
                                     "!pip install --quiet --index-url https://download.pytorch.org/whl/cpu torch==2.3.1\n",
                                     "\n",
                                     "!pip install --quiet stable-baselines3==2.4.0 gymnasium==0.29.1\n",
                                     "\n",
                                     "!pip install --quiet polars==1.15.0 python-dotenv==1.0.0 PyYAML==6.0.2 pandas==2.2.2 requests==2.32.4 joblib==1.4.2 PyJWT==2.8.0 tradelocker==0.56.2\n",
                                     "\n",
                                     "# pandas/requests match Colab\u0027s pins to avoid resolver conflicts.\n"
                                 ]
                  },
                  {
                      "cell_type":  "code",
                      "execution_count":  null,
                      "metadata":  {

                                   },
                      "outputs":  [

                                  ],
                      "source":  [
                                     "#@title 2. Clone repo \u0026 upload secrets\n",
                                     "import os, shutil\n",
                                     "if os.path.exists(\u0027AGV2\u0027):\n    shutil.rmtree(\u0027AGV2\u0027)\n",
                                     "!git clone https://github.com/YOUR_ORG/AGV2.git\n",
                                     "%cd AGV2\n",
                                     "from google.colab import files\n",
                                     "print(\u0027Upload .env and parquet files now...\u0027)\n",
                                     "uploaded = files.upload()\n",
                                     "uploaded.keys()"
                                 ]
                  },
                  {
                      "cell_type":  "code",
                      "execution_count":  null,
                      "metadata":  {

                                   },
                      "outputs":  [

                                  ],
                      "source":  [
                                     "#@title 3. Train Stage-1 encoder\n",
                                     "import subprocess, torch\n",
                                     "ENV_PATH = \u0027/content/AGV2/.env\u0027\n",
                                     "DATA_PATH = \u0027/content/AGV2/data/features/encoder_windows_eth.parquet\u0027\n",
                                     "train_cmd = [\u0027python\u0027,\u0027scripts/train_encoder.py\u0027,\u0027--data\u0027,DATA_PATH,\u0027--config\u0027,\u0027config/encoder.yaml\u0027,\u0027--env\u0027,ENV_PATH,\u0027--device\u0027,\u0027cuda\u0027 if torch.cuda.is_available() else \u0027cpu\u0027,\u0027--seed\u0027,\u00270\u0027]\n",
                                     "print(\u0027Running:\u0027, \u0027 \u0027.join(train_cmd))\n",
                                     "subprocess.run(train_cmd, check=True)"
                                 ]
                  },
                  {
                      "cell_type":  "code",
                      "execution_count":  null,
                      "metadata":  {

                                   },
                      "outputs":  [

                                  ],
                      "source":  [
                                     "#@title 4. Generate embeddings, train PPO, backtest\n",
                                     "import subprocess, torch\n",
                                     "EMBED_INPUT = DATA_PATH\n",
                                     "EMBED_OUTPUT = \u0027/content/AGV2/data/features/encoder_windows_eth_emb.parquet\u0027\n",
                                     "CHECKPOINT = \u0027models/encoders/encoder_best.pt\u0027\n",
                                     "DEVICE = \u0027cuda\u0027 if torch.cuda.is_available() else \u0027cpu\u0027\n",
                                     "subprocess.run([\u0027python\u0027,\u0027scripts/embed_windows.py\u0027,\u0027--input\u0027,EMBED_INPUT,\u0027--checkpoint\u0027,CHECKPOINT,\u0027--output\u0027,EMBED_OUTPUT,\u0027--batch-size\u0027,\u0027256\u0027,\u0027--device\u0027,DEVICE], check=True)\n",
                                     "subprocess.run([\u0027python\u0027,\u0027scripts/train_policy.py\u0027,\u0027--config\u0027,\u0027config/rl_policy.yaml\u0027,\u0027--data\u0027,EMBED_OUTPUT,\u0027--timesteps\u0027,\u0027200000\u0027], check=True)\n",
                                     "subprocess.run([\u0027python\u0027,\u0027scripts/backtest_policy.py\u0027,\u0027--config\u0027,\u0027config/backtest.yaml\u0027,\u0027--model\u0027,\u0027models/policies/ppo_trading_env.zip\u0027,\u0027--episodes\u0027,\u002720\u0027], check=True)"
                                 ]
                  }
              ],
    "metadata":  {
                     "kernelspec":  {
                                        "display_name":  "Python 3",
                                        "language":  "python",
                                        "name":  "python3"
                                    },
                     "language_info":  {
                                           "name":  "python",
                                           "version":  "3.x"
                                       }
                 },
    "nbformat":  4,
    "nbformat_minor":  5
}
