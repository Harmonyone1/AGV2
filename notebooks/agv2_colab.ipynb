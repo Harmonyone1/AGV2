﻿{
    "cells":  [
                  {
                      "cell_type":  "markdown",
                      "metadata":  {

                                   },
                      "source":  [
                                     "# AGV2 Colab Pipeline\n",
                                     "Use this notebook to run encoder + PPO training on Colab. Upload your `.env` and parquet files.\n"
                                 ]
                  },
                  {
                      "cell_type":  "code",
                      "execution_count":  null,
                      "metadata":  {

                                   },
                      "outputs":  [

                                  ],
                      "source":  [
                                     "#@title 1. Environment setup (Colab-safe pins)\n",
                                     "\n",
                                     "!pip install --quiet --index-url https://download.pytorch.org/whl/cpu torch==2.8.0 torchvision==0.23.0 torchaudio==2.8.0\n",
                                     "\n",
                                     "!pip install --quiet stable-baselines3==2.4.0 gymnasium==0.29.1\n",
                                     "\n",
                                     "!pip install --quiet polars==1.15.0 numpy==2.1.1 python-dotenv==1.0.0 PyYAML==6.0.2 pandas==2.2.2 requests==2.32.4 joblib==1.4.2 PyJWT==2.8.0\n",
                                     "\n",
                                     "!pip install --quiet tradelocker==0.56.2 --no-deps  # package pins requests==2.32.2, but we keep Colab\u0027s 2.32.4\n"
                                 ]
                  },
                  {
                      "cell_type":  "code",
                      "execution_count":  null,
                      "metadata":  {

                                   },
                      "outputs":  [

                                  ],
                      "source":  [
                                     "#@title 2. Clone repo \u0026 upload secrets\n",
                                     "\n",
                                     "import os, shutil\n",
                                     "\n",
                                     "if os.path.exists(\u0027AGV2\u0027):\n",
                                     "    shutil.rmtree(\u0027AGV2\u0027)\n",
                                     "\n",
                                     "!git clone https://github.com/Harmonyone1/AGV2.git\n",
                                     "\n",
                                     "%cd AGV2\n",
                                     "\n",
                                     "from google.colab import files\n",
                                     "\n",
                                     "print(\u0027Upload .env and parquet files now...\u0027)\n",
                                     "\n",
                                     "uploaded = files.upload()\n",
                                     "\n",
                                     "uploaded.keys()\n"
                                 ]
                  },
                  {
                      "cell_type":  "code",
                      "execution_count":  null,
                      "metadata":  {

                                   },
                      "outputs":  [

                                  ],
                      "source":  [
                                     "\n",
                                     "#@title 3. Train Stage-1 encoder\n",
                                     "\n",
                                     "import os, subprocess, torch, sys\n",
                                     "\n",
                                     "REPO_ROOT = \u0027/content/AGV2\u0027\n",
                                     "SRC_ROOT = f\"{REPO_ROOT}/src\"\n",
                                     "UPLOAD_PATH = f\"{REPO_ROOT}/encoder_windows_eth.parquet\"\n",
                                     "DATA_PATH = UPLOAD_PATH if os.path.exists(UPLOAD_PATH) else f\"{REPO_ROOT}/data/features/encoder_windows_eth.parquet\"\n",
                                     "if not os.path.exists(DATA_PATH):\n",
                                     "    raise FileNotFoundError(\u0027Upload encoder_windows_eth.parquet via cell 2 or update DATA_PATH.\u0027)\n",
                                     "\n",
                                     "ENV_PATH = f\"{REPO_ROOT}/.env\"\n",
                                     "CONFIG_PATH = f\"{REPO_ROOT}/config/encoder.yaml\"\n",
                                     "\n",
                                     "%cd /content/AGV2\n",
                                     "\n",
                                     "env = os.environ.copy()\n",
                                     "existing_path = env.get(\u0027PYTHONPATH\u0027, \u0027\u0027)\n",
                                     "paths = [SRC_ROOT, REPO_ROOT]\n",
                                     "if existing_path:\n",
                                     "    paths.append(existing_path)\n",
                                     "env[\u0027PYTHONPATH\u0027] = \u0027:\u0027.join(paths)\n",
                                     "\n",
                                     "train_cmd = [sys.executable,\u0027scripts/train_encoder.py\u0027,\u0027--data\u0027,DATA_PATH,\u0027--config\u0027,CONFIG_PATH,\u0027--env\u0027,ENV_PATH,\u0027--device\u0027,\u0027cuda\u0027 if torch.cuda.is_available() else \u0027cpu\u0027,\u0027--seed\u0027,\u00270\u0027]\n",
                                     "print(\u0027Running:\u0027, \u0027 \u0027.join(train_cmd))\n",
                                     "result = subprocess.run(train_cmd, capture_output=True, text=True, cwd=REPO_ROOT, env=env)\n",
                                     "print(result.stdout)\n",
                                     "print(result.stderr)\n",
                                     "result.check_returncode()\n"
                                 ]
                  },
                  {
                      "cell_type":  "code",
                      "execution_count":  null,
                      "metadata":  {

                                   },
                      "outputs":  [

                                  ],
                      "source":  [
                                     "#@title 4. Generate embeddings, train PPO, backtest\n",
                                     "\n",
                                     "import subprocess, torch\n",
                                     "\n",
                                     "EMBED_INPUT = DATA_PATH\n",
                                     "EMBED_OUTPUT = \u0027/content/AGV2/data/features/encoder_windows_eth_emb.parquet\u0027\n",
                                     "CHECKPOINT = \u0027models/encoders/encoder_best.pt\u0027\n",
                                     "DEVICE = \u0027cuda\u0027 if torch.cuda.is_available() else \u0027cpu\u0027\n",
                                     "\n",
                                     "subprocess.run([\u0027python\u0027,\u0027scripts/embed_windows.py\u0027,\u0027--input\u0027,EMBED_INPUT,\u0027--checkpoint\u0027,CHECKPOINT,\u0027--output\u0027,EMBED_OUTPUT,\u0027--batch-size\u0027,\u0027256\u0027,\u0027--device\u0027,DEVICE], check=True)\n",
                                     "\n",
                                     "train_cmd = [\\n    \u0027python\u0027,\u0027scripts/train_policy.py\u0027,\\n    \u0027--config\u0027,\u0027config/rl_policy.yaml\u0027,\\n    \u0027--data\u0027,EMBED_OUTPUT,\\n    \u0027--timesteps\u0027,\u0027200000\u0027\\n]\\nif torch.cuda.is_available():\\n    train_cmd.extend([\u0027--device\u0027,\u0027cuda\u0027])\\nsubprocess.run(train_cmd, check=True)\n",
                                     "\n",
                                     "subprocess.run([\u0027python\u0027,\u0027scripts/backtest_policy.py\u0027,\u0027--config\u0027,\u0027config/backtest.yaml\u0027,\u0027--model\u0027,\u0027models/policies/ppo_trading_env.zip\u0027,\u0027--episodes\u0027,\u002720\u0027], check=True)\n"
                                 ]
                  }
              ],
    "metadata":  {
                     "kernelspec":  {
                                        "display_name":  "Python 3",
                                        "language":  "python",
                                        "name":  "python3"
                                    },
                     "language_info":  {
                                           "name":  "python",
                                           "version":  "3.x"
                                       }
                 },
    "nbformat":  4,
    "nbformat_minor":  5
}
